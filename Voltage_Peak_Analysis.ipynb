{
 "cells": [
  {
   "cell_type": "markdown",
   "id": "06b491ec-e241-4887-8e46-53efbca6f1b8",
   "metadata": {},
   "source": [
    "# Analysis of the Voltage Output from a Triboelectric Energy Converter"
   ]
  },
  {
   "cell_type": "markdown",
   "id": "d7c39229-daed-4ef7-93f0-d0fd3c93c047",
   "metadata": {},
   "source": [
    "Triboelectric Converters are devices that convert mechanical to electric energy via contact electrification followed by electrostatic induction.\n",
    "\n",
    "When the device is tested, a vertical, repetitive and controlled tapping force is applied. The fisical contact, followed by a separation of the layers that constitute the device, induces an electric current in the external circuit that can be measured using an oscilloscope.\n",
    "\n",
    "The followig file was obtained when testing a triboelectric converter using a tapping frequency of 2Hz and a force of 30N."
   ]
  },
  {
   "cell_type": "code",
   "execution_count": 2,
   "id": "0680a64b-5ed9-4963-9a6e-552a2a804db9",
   "metadata": {},
   "outputs": [],
   "source": [
    "#import pandas lybrary\n",
    "import pandas as pd"
   ]
  },
  {
   "cell_type": "code",
   "execution_count": 10,
   "id": "355f436f-b451-469f-b439-9c363fd63b43",
   "metadata": {},
   "outputs": [],
   "source": [
    "#defining the csv file path\n",
    "path = \"C:/Users/Utilizador/Documents/GitHub/PhD_reports/Smooth_4min_30N_2Hz.CSV\""
   ]
  },
  {
   "cell_type": "code",
   "execution_count": 23,
   "id": "f805e2b3-6191-4df7-a5a8-25372cc643f5",
   "metadata": {},
   "outputs": [],
   "source": [
    "#importing the content of the csv file into a df_ pandas dataframe \n",
    "df_ = pd.read_csv(path)"
   ]
  },
  {
   "cell_type": "code",
   "execution_count": 24,
   "id": "b6289efb-65a1-4c94-b711-f7515a2d245a",
   "metadata": {},
   "outputs": [
    {
     "data": {
      "text/html": [
       "<div>\n",
       "<style scoped>\n",
       "    .dataframe tbody tr th:only-of-type {\n",
       "        vertical-align: middle;\n",
       "    }\n",
       "\n",
       "    .dataframe tbody tr th {\n",
       "        vertical-align: top;\n",
       "    }\n",
       "\n",
       "    .dataframe thead th {\n",
       "        text-align: right;\n",
       "    }\n",
       "</style>\n",
       "<table border=\"1\" class=\"dataframe\">\n",
       "  <thead>\n",
       "    <tr style=\"text-align: right;\">\n",
       "      <th></th>\n",
       "      <th>Model</th>\n",
       "      <th>TBS1102C;;;;;;;\"Source: \"\"C:\\Users\\Utilizador\\OneDrive - FCT NOVA\\Documentos_SyncGoogleDrive\\1PHD Project\\#6 Resultados\\05 - Smooth &amp; Porous PDMS\\Electric Results S+P newSamples PFAM 2023\\Smooth Dif-Forces-2Hz\\TEK21830.CSV\"\"\"</th>\n",
       "    </tr>\n",
       "  </thead>\n",
       "  <tbody>\n",
       "    <tr>\n",
       "      <th>0</th>\n",
       "      <td>Firmware Version</td>\n",
       "      <td>v2015-08-04-prequal4ch70_v1.3;;;;;;;</td>\n",
       "    </tr>\n",
       "    <tr>\n",
       "      <th>1</th>\n",
       "      <td>;;;;;;;</td>\n",
       "      <td>NaN</td>\n",
       "    </tr>\n",
       "    <tr>\n",
       "      <th>2</th>\n",
       "      <td>Point Format</td>\n",
       "      <td>Y;;;;;;;</td>\n",
       "    </tr>\n",
       "    <tr>\n",
       "      <th>3</th>\n",
       "      <td>Horizontal Units</td>\n",
       "      <td>S;;;;;;;</td>\n",
       "    </tr>\n",
       "    <tr>\n",
       "      <th>4</th>\n",
       "      <td>Horizontal Scale</td>\n",
       "      <td>0.1;;;;;;;</td>\n",
       "    </tr>\n",
       "    <tr>\n",
       "      <th>5</th>\n",
       "      <td>Sample Interval</td>\n",
       "      <td>0.0008;;;;;;;</td>\n",
       "    </tr>\n",
       "    <tr>\n",
       "      <th>6</th>\n",
       "      <td>Filter Frequency</td>\n",
       "      <td>2e+08;;;;;;;</td>\n",
       "    </tr>\n",
       "    <tr>\n",
       "      <th>7</th>\n",
       "      <td>Record Length</td>\n",
       "      <td>2000;;;;;;;</td>\n",
       "    </tr>\n",
       "    <tr>\n",
       "      <th>8</th>\n",
       "      <td>Gating</td>\n",
       "      <td>0.0% to 100.0%;;;;;;;</td>\n",
       "    </tr>\n",
       "    <tr>\n",
       "      <th>9</th>\n",
       "      <td>Probe Attenuation</td>\n",
       "      <td>10;;;;;;;</td>\n",
       "    </tr>\n",
       "    <tr>\n",
       "      <th>10</th>\n",
       "      <td>Vertical Units</td>\n",
       "      <td>V;;;;;;;</td>\n",
       "    </tr>\n",
       "    <tr>\n",
       "      <th>11</th>\n",
       "      <td>Vertical Offset</td>\n",
       "      <td>0;;;;;;;</td>\n",
       "    </tr>\n",
       "    <tr>\n",
       "      <th>12</th>\n",
       "      <td>Vertical Scale</td>\n",
       "      <td>10;;;;;;;</td>\n",
       "    </tr>\n",
       "    <tr>\n",
       "      <th>13</th>\n",
       "      <td>Label</td>\n",
       "      <td>;;;;;;;</td>\n",
       "    </tr>\n",
       "    <tr>\n",
       "      <th>14</th>\n",
       "      <td>TIME</td>\n",
       "      <td>CH1;;;;;;;</td>\n",
       "    </tr>\n",
       "    <tr>\n",
       "      <th>15</th>\n",
       "      <td>-8.000e-01</td>\n",
       "      <td>0.4;;;;;;;</td>\n",
       "    </tr>\n",
       "    <tr>\n",
       "      <th>16</th>\n",
       "      <td>-7.992e-01</td>\n",
       "      <td>0.8;;;;;;;</td>\n",
       "    </tr>\n",
       "    <tr>\n",
       "      <th>17</th>\n",
       "      <td>-7.984e-01</td>\n",
       "      <td>0.8;;;;;;;</td>\n",
       "    </tr>\n",
       "    <tr>\n",
       "      <th>18</th>\n",
       "      <td>-7.976e-01</td>\n",
       "      <td>0.8;;;;;;;</td>\n",
       "    </tr>\n",
       "    <tr>\n",
       "      <th>19</th>\n",
       "      <td>-7.968e-01</td>\n",
       "      <td>1.2;;;;;;;</td>\n",
       "    </tr>\n",
       "  </tbody>\n",
       "</table>\n",
       "</div>"
      ],
      "text/plain": [
       "                Model  \\\n",
       "0    Firmware Version   \n",
       "1             ;;;;;;;   \n",
       "2        Point Format   \n",
       "3    Horizontal Units   \n",
       "4    Horizontal Scale   \n",
       "5     Sample Interval   \n",
       "6    Filter Frequency   \n",
       "7       Record Length   \n",
       "8              Gating   \n",
       "9   Probe Attenuation   \n",
       "10     Vertical Units   \n",
       "11    Vertical Offset   \n",
       "12     Vertical Scale   \n",
       "13              Label   \n",
       "14               TIME   \n",
       "15         -8.000e-01   \n",
       "16         -7.992e-01   \n",
       "17         -7.984e-01   \n",
       "18         -7.976e-01   \n",
       "19         -7.968e-01   \n",
       "\n",
       "   TBS1102C;;;;;;;\"Source: \"\"C:\\Users\\Utilizador\\OneDrive - FCT NOVA\\Documentos_SyncGoogleDrive\\1PHD Project\\#6 Resultados\\05 - Smooth & Porous PDMS\\Electric Results S+P newSamples PFAM 2023\\Smooth Dif-Forces-2Hz\\TEK21830.CSV\"\"\"  \n",
       "0                v2015-08-04-prequal4ch70_v1.3;;;;;;;                                                                                                                                                                                 \n",
       "1                                                 NaN                                                                                                                                                                                 \n",
       "2                                            Y;;;;;;;                                                                                                                                                                                 \n",
       "3                                            S;;;;;;;                                                                                                                                                                                 \n",
       "4                                          0.1;;;;;;;                                                                                                                                                                                 \n",
       "5                                       0.0008;;;;;;;                                                                                                                                                                                 \n",
       "6                                        2e+08;;;;;;;                                                                                                                                                                                 \n",
       "7                                         2000;;;;;;;                                                                                                                                                                                 \n",
       "8                               0.0% to 100.0%;;;;;;;                                                                                                                                                                                 \n",
       "9                                           10;;;;;;;                                                                                                                                                                                 \n",
       "10                                           V;;;;;;;                                                                                                                                                                                 \n",
       "11                                           0;;;;;;;                                                                                                                                                                                 \n",
       "12                                          10;;;;;;;                                                                                                                                                                                 \n",
       "13                                            ;;;;;;;                                                                                                                                                                                 \n",
       "14                                         CH1;;;;;;;                                                                                                                                                                                 \n",
       "15                                         0.4;;;;;;;                                                                                                                                                                                 \n",
       "16                                         0.8;;;;;;;                                                                                                                                                                                 \n",
       "17                                         0.8;;;;;;;                                                                                                                                                                                 \n",
       "18                                         0.8;;;;;;;                                                                                                                                                                                 \n",
       "19                                         1.2;;;;;;;                                                                                                                                                                                 "
      ]
     },
     "execution_count": 24,
     "metadata": {},
     "output_type": "execute_result"
    }
   ],
   "source": [
    "#visualize the first 20 lines of df_\n",
    "df_.head(20)"
   ]
  },
  {
   "cell_type": "markdown",
   "id": "5ac00479-7838-4bf7-b0c9-8b82204f8059",
   "metadata": {},
   "source": [
    "The first 15 lines of the csv file feature settings of the data aquisition that are not relevant for the analysis.\n",
    "\n",
    "The actual data starts at line 16, so let's create a dataframe using only relevant data:"
   ]
  },
  {
   "cell_type": "code",
   "execution_count": 36,
   "id": "2e633d67-01ec-4000-bee6-e958adab61f5",
   "metadata": {},
   "outputs": [],
   "source": [
    "#importing the content of the csv file into a df pandas dataframe and skiping the first 15 lines of header\n",
    "df = pd.read_csv(path, skiprows=15)"
   ]
  },
  {
   "cell_type": "code",
   "execution_count": 37,
   "id": "260bcfc1-4886-4f8c-90d2-3f7a0012e20e",
   "metadata": {},
   "outputs": [
    {
     "data": {
      "text/html": [
       "<div>\n",
       "<style scoped>\n",
       "    .dataframe tbody tr th:only-of-type {\n",
       "        vertical-align: middle;\n",
       "    }\n",
       "\n",
       "    .dataframe tbody tr th {\n",
       "        vertical-align: top;\n",
       "    }\n",
       "\n",
       "    .dataframe thead th {\n",
       "        text-align: right;\n",
       "    }\n",
       "</style>\n",
       "<table border=\"1\" class=\"dataframe\">\n",
       "  <thead>\n",
       "    <tr style=\"text-align: right;\">\n",
       "      <th></th>\n",
       "      <th>TIME</th>\n",
       "      <th>CH1;;;;;;;</th>\n",
       "    </tr>\n",
       "  </thead>\n",
       "  <tbody>\n",
       "    <tr>\n",
       "      <th>0</th>\n",
       "      <td>-0.8000</td>\n",
       "      <td>0.4;;;;;;;</td>\n",
       "    </tr>\n",
       "    <tr>\n",
       "      <th>1</th>\n",
       "      <td>-0.7992</td>\n",
       "      <td>0.8;;;;;;;</td>\n",
       "    </tr>\n",
       "    <tr>\n",
       "      <th>2</th>\n",
       "      <td>-0.7984</td>\n",
       "      <td>0.8;;;;;;;</td>\n",
       "    </tr>\n",
       "    <tr>\n",
       "      <th>3</th>\n",
       "      <td>-0.7976</td>\n",
       "      <td>0.8;;;;;;;</td>\n",
       "    </tr>\n",
       "    <tr>\n",
       "      <th>4</th>\n",
       "      <td>-0.7968</td>\n",
       "      <td>1.2;;;;;;;</td>\n",
       "    </tr>\n",
       "  </tbody>\n",
       "</table>\n",
       "</div>"
      ],
      "text/plain": [
       "     TIME  CH1;;;;;;;\n",
       "0 -0.8000  0.4;;;;;;;\n",
       "1 -0.7992  0.8;;;;;;;\n",
       "2 -0.7984  0.8;;;;;;;\n",
       "3 -0.7976  0.8;;;;;;;\n",
       "4 -0.7968  1.2;;;;;;;"
      ]
     },
     "execution_count": 37,
     "metadata": {},
     "output_type": "execute_result"
    }
   ],
   "source": [
    "#visualize the first 5 lines of the new df\n",
    "df.head()"
   ]
  },
  {
   "cell_type": "markdown",
   "id": "0389fe10-0824-4541-97d7-10565ee56ef1",
   "metadata": {},
   "source": [
    "The original CSV file exported by the oscilloscope has weird \";;;;;;;\" formating that should be fixed"
   ]
  },
  {
   "cell_type": "code",
   "execution_count": 38,
   "id": "c33a9c63-9431-4644-9fb4-04d42aea1c68",
   "metadata": {},
   "outputs": [
    {
     "data": {
      "text/html": [
       "<div>\n",
       "<style scoped>\n",
       "    .dataframe tbody tr th:only-of-type {\n",
       "        vertical-align: middle;\n",
       "    }\n",
       "\n",
       "    .dataframe tbody tr th {\n",
       "        vertical-align: top;\n",
       "    }\n",
       "\n",
       "    .dataframe thead th {\n",
       "        text-align: right;\n",
       "    }\n",
       "</style>\n",
       "<table border=\"1\" class=\"dataframe\">\n",
       "  <thead>\n",
       "    <tr style=\"text-align: right;\">\n",
       "      <th></th>\n",
       "      <th>TIME</th>\n",
       "      <th>CH1;;;;;;;</th>\n",
       "    </tr>\n",
       "  </thead>\n",
       "  <tbody>\n",
       "    <tr>\n",
       "      <th>0</th>\n",
       "      <td>-0.8000</td>\n",
       "      <td>0.4</td>\n",
       "    </tr>\n",
       "    <tr>\n",
       "      <th>1</th>\n",
       "      <td>-0.7992</td>\n",
       "      <td>0.8</td>\n",
       "    </tr>\n",
       "    <tr>\n",
       "      <th>2</th>\n",
       "      <td>-0.7984</td>\n",
       "      <td>0.8</td>\n",
       "    </tr>\n",
       "    <tr>\n",
       "      <th>3</th>\n",
       "      <td>-0.7976</td>\n",
       "      <td>0.8</td>\n",
       "    </tr>\n",
       "    <tr>\n",
       "      <th>4</th>\n",
       "      <td>-0.7968</td>\n",
       "      <td>1.2</td>\n",
       "    </tr>\n",
       "  </tbody>\n",
       "</table>\n",
       "</div>"
      ],
      "text/plain": [
       "     TIME CH1;;;;;;;\n",
       "0 -0.8000        0.4\n",
       "1 -0.7992        0.8\n",
       "2 -0.7984        0.8\n",
       "3 -0.7976        0.8\n",
       "4 -0.7968        1.2"
      ]
     },
     "execution_count": 38,
     "metadata": {},
     "output_type": "execute_result"
    }
   ],
   "source": [
    "#cleaning the \";;;;;;;\" formating in the df\n",
    "df = df.replace(';;;;;;;', '', regex=True)\n",
    "df.head()"
   ]
  },
  {
   "cell_type": "code",
   "execution_count": 39,
   "id": "b5d6552d-9f0b-4c1f-897c-3f6a5b0514ea",
   "metadata": {},
   "outputs": [
    {
     "data": {
      "text/html": [
       "<div>\n",
       "<style scoped>\n",
       "    .dataframe tbody tr th:only-of-type {\n",
       "        vertical-align: middle;\n",
       "    }\n",
       "\n",
       "    .dataframe tbody tr th {\n",
       "        vertical-align: top;\n",
       "    }\n",
       "\n",
       "    .dataframe thead th {\n",
       "        text-align: right;\n",
       "    }\n",
       "</style>\n",
       "<table border=\"1\" class=\"dataframe\">\n",
       "  <thead>\n",
       "    <tr style=\"text-align: right;\">\n",
       "      <th></th>\n",
       "      <th>Time (s)</th>\n",
       "      <th>Voltage (V)</th>\n",
       "    </tr>\n",
       "  </thead>\n",
       "  <tbody>\n",
       "    <tr>\n",
       "      <th>0</th>\n",
       "      <td>-0.8000</td>\n",
       "      <td>0.4</td>\n",
       "    </tr>\n",
       "    <tr>\n",
       "      <th>1</th>\n",
       "      <td>-0.7992</td>\n",
       "      <td>0.8</td>\n",
       "    </tr>\n",
       "    <tr>\n",
       "      <th>2</th>\n",
       "      <td>-0.7984</td>\n",
       "      <td>0.8</td>\n",
       "    </tr>\n",
       "    <tr>\n",
       "      <th>3</th>\n",
       "      <td>-0.7976</td>\n",
       "      <td>0.8</td>\n",
       "    </tr>\n",
       "    <tr>\n",
       "      <th>4</th>\n",
       "      <td>-0.7968</td>\n",
       "      <td>1.2</td>\n",
       "    </tr>\n",
       "  </tbody>\n",
       "</table>\n",
       "</div>"
      ],
      "text/plain": [
       "   Time (s) Voltage (V)\n",
       "0   -0.8000         0.4\n",
       "1   -0.7992         0.8\n",
       "2   -0.7984         0.8\n",
       "3   -0.7976         0.8\n",
       "4   -0.7968         1.2"
      ]
     },
     "execution_count": 39,
     "metadata": {},
     "output_type": "execute_result"
    }
   ],
   "source": [
    "#renaming the column name\n",
    "df.rename(columns={'CH1;;;;;;;':'Voltage (V)'}, inplace=True)\n",
    "df.rename(columns={'TIME': 'Time (s)'}, inplace=True)\n",
    "df.head()"
   ]
  },
  {
   "cell_type": "markdown",
   "id": "38591e34-4ad8-4e20-ae6b-9b72351c8824",
   "metadata": {},
   "source": [
    "Let's look at how many data aquisistion points there is (number of rows):"
   ]
  },
  {
   "cell_type": "code",
   "execution_count": 35,
   "id": "4803f46a-bd4b-4fe1-9206-136cf3758008",
   "metadata": {},
   "outputs": [
    {
     "data": {
      "text/plain": [
       "(2000, 2)"
      ]
     },
     "execution_count": 35,
     "metadata": {},
     "output_type": "execute_result"
    }
   ],
   "source": [
    "df.shape"
   ]
  },
  {
   "cell_type": "markdown",
   "id": "b4c7eef2-3075-4ff7-a300-a25ab18b3595",
   "metadata": {},
   "source": [
    "The dataframe has 2000 rows and 2 columns. Let's explore its formating:"
   ]
  },
  {
   "cell_type": "code",
   "execution_count": 41,
   "id": "51059892-739a-49b7-950a-50090c7730c1",
   "metadata": {},
   "outputs": [
    {
     "data": {
      "text/plain": [
       "Time (s)       float64\n",
       "Voltage (V)     object\n",
       "dtype: object"
      ]
     },
     "execution_count": 41,
     "metadata": {},
     "output_type": "execute_result"
    }
   ],
   "source": [
    "df.dtypes"
   ]
  },
  {
   "cell_type": "markdown",
   "id": "e9c70670-c097-47c6-971c-0f7b3a197672",
   "metadata": {},
   "source": [
    "'Voltage (V)' is set as an object so let's convert it to a numerical type float:"
   ]
  },
  {
   "cell_type": "code",
   "execution_count": 43,
   "id": "049578c1-c287-483a-a0ad-49eb0778a10e",
   "metadata": {},
   "outputs": [
    {
     "data": {
      "text/plain": [
       "Time (s)       float64\n",
       "Voltage (V)    float64\n",
       "dtype: object"
      ]
     },
     "execution_count": 43,
     "metadata": {},
     "output_type": "execute_result"
    }
   ],
   "source": [
    "df['Voltage (V)'] = df['Voltage (V)'].astype(float)\n",
    "df.dtypes"
   ]
  },
  {
   "cell_type": "markdown",
   "id": "70000ae4-d82a-4fdb-a29a-25e1ded9ea37",
   "metadata": {},
   "source": [
    "Let's also look for any missing data in the dataframe:"
   ]
  },
  {
   "cell_type": "code",
   "execution_count": 44,
   "id": "952cb180-91b6-4195-bc7d-709590a084fb",
   "metadata": {},
   "outputs": [
    {
     "data": {
      "text/plain": [
       "Time (s)       0\n",
       "Voltage (V)    0\n",
       "dtype: int64"
      ]
     },
     "execution_count": 44,
     "metadata": {},
     "output_type": "execute_result"
    }
   ],
   "source": [
    "df.isnull().sum()"
   ]
  },
  {
   "cell_type": "markdown",
   "id": "deba2630-2d0c-4cab-b112-e0caf755c7b9",
   "metadata": {},
   "source": [
    "Since there are no missing values in the dataframe, we can proceed with the analysis.\n",
    "\n",
    "Let's plot Voltage (V) vs Time (s)"
   ]
  },
  {
   "cell_type": "code",
   "execution_count": 47,
   "id": "48aa2d7c-7c68-49c1-b29a-afb570509b27",
   "metadata": {},
   "outputs": [
    {
     "data": {
      "image/png": "[encoded data removed]",
      "text/plain": [
       "<Figure size 640x480 with 1 Axes>"
      ]
     },
     "metadata": {},
     "output_type": "display_data"
    }
   ],
   "source": [
    "#importing matplotlib to help us visualize\n",
    "import matplotlib.pyplot as plt\n",
    "\n",
    "df.plot(x='Time (s)', y='Voltage (V)', kind='line')\n",
    "\n",
    "plt.xlabel('Time (s)')\n",
    "plt.ylabel('Voltage (V)')\n",
    "plt.title('Voltage vs Time')\n",
    "\n",
    "plt.show()"
   ]
  },
  {
   "cell_type": "markdown",
   "id": "ac9e32d9-5b1d-4b45-9f15-6429fb3de097",
   "metadata": {},
   "source": [
    "Let's analyse one of the positive and negative peaks in more detail:"
   ]
  },
  {
   "cell_type": "code",
   "execution_count": 68,
   "id": "1dcc4f89-402f-4fb0-9fa9-80697fba810e",
   "metadata": {},
   "outputs": [
    {
     "data": {
      "image/png": "[encoded data removed]",
      "text/plain": [
       "<Figure size 640x480 with 1 Axes>"
      ]
     },
     "metadata": {},
     "output_type": "display_data"
    }
   ],
   "source": [
    "plt.plot(df['Time (s)'], df['Voltage (V)'])\n",
    "plt.scatter(df['Time (s)'], df['Voltage (V)'])\n",
    "plt.xlim(-.31, -.26)\n",
    "plt.ylim(-5, 25)\n",
    "\n",
    "plt.xlabel('Time (s)')\n",
    "plt.ylabel('Voltage (V)')\n",
    "plt.title('Positive Peak')\n",
    "plt.show()"
   ]
  },
  {
   "cell_type": "code",
   "execution_count": 73,
   "id": "0d30ecb3-f918-43db-ac8f-c37a1585d93a",
   "metadata": {},
   "outputs": [
    {
     "data": {
      "image/png": "[encoded data removed]",
      "text/plain": [
       "<Figure size 640x480 with 1 Axes>"
      ]
     },
     "metadata": {},
     "output_type": "display_data"
    }
   ],
   "source": [
    "plt.plot(df['Time (s)'], df['Voltage (V)'])\n",
    "plt.scatter(df['Time (s)'], df['Voltage (V)'])\n",
    "plt.xlim(-.12, 0)\n",
    "plt.ylim(-9, 2)\n",
    "\n",
    "plt.xlabel('Time (s)')\n",
    "plt.ylabel('Voltage (V)')\n",
    "plt.title('Negative Peak')\n",
    "plt.show()"
   ]
  },
  {
   "cell_type": "markdown",
   "id": "9c5762b1-59a8-44c3-ac28-0a2c180c5386",
   "metadata": {},
   "source": [
    "Let's write an algoritm to find the local maximum and minimum - aka Positive and Negative Peaks, in the data"
   ]
  },
  {
   "cell_type": "code",
   "execution_count": 136,
   "id": "647a87b3-e9bc-4ce8-a8d7-710de1ae16da",
   "metadata": {},
   "outputs": [
    {
     "data": {
      "text/html": [
       "<div>\n",
       "<style scoped>\n",
       "    .dataframe tbody tr th:only-of-type {\n",
       "        vertical-align: middle;\n",
       "    }\n",
       "\n",
       "    .dataframe tbody tr th {\n",
       "        vertical-align: top;\n",
       "    }\n",
       "\n",
       "    .dataframe thead th {\n",
       "        text-align: right;\n",
       "    }\n",
       "</style>\n",
       "<table border=\"1\" class=\"dataframe\">\n",
       "  <thead>\n",
       "    <tr style=\"text-align: right;\">\n",
       "      <th></th>\n",
       "      <th>time+ (s)</th>\n",
       "      <th>V+ peak (V)</th>\n",
       "    </tr>\n",
       "  </thead>\n",
       "  <tbody>\n",
       "    <tr>\n",
       "      <th>0</th>\n",
       "      <td>-0.7864</td>\n",
       "      <td>24.0</td>\n",
       "    </tr>\n",
       "    <tr>\n",
       "      <th>1</th>\n",
       "      <td>-0.2864</td>\n",
       "      <td>22.4</td>\n",
       "    </tr>\n",
       "    <tr>\n",
       "      <th>2</th>\n",
       "      <td>0.2144</td>\n",
       "      <td>22.8</td>\n",
       "    </tr>\n",
       "    <tr>\n",
       "      <th>3</th>\n",
       "      <td>0.7144</td>\n",
       "      <td>24.4</td>\n",
       "    </tr>\n",
       "  </tbody>\n",
       "</table>\n",
       "</div>"
      ],
      "text/plain": [
       "   time+ (s)  V+ peak (V)\n",
       "0    -0.7864         24.0\n",
       "1    -0.2864         22.4\n",
       "2     0.2144         22.8\n",
       "3     0.7144         24.4"
      ]
     },
     "execution_count": 136,
     "metadata": {},
     "output_type": "execute_result"
    }
   ],
   "source": [
    "from scipy.signal import find_peaks\n",
    "\n",
    "#Adjust parameters apropriatly\n",
    "offset=3\n",
    "distance=1\n",
    "\n",
    "x = df['Time (s)']\n",
    "y = df['Voltage (V)']\n",
    "    \n",
    "#Find local maxima (positive peaks)_\n",
    "peaks, _ = find_peaks(y, height=offset, distance=distance)\n",
    "\n",
    "#Get the x and y values of the peaks\n",
    "pos_x_time = x.iloc[peaks].values\n",
    "pos_y_peak = y.iloc[peaks].values\n",
    "\n",
    "positive_peaks = pd.DataFrame({\n",
    "        'time+ (s)': pos_x_time,\n",
    "        'V+ peak (V)': pos_y_peak})\n",
    "\n",
    "positive_peaks"
   ]
  },
  {
   "cell_type": "code",
   "execution_count": 137,
   "id": "06125973-9453-476d-8753-d29c6126e521",
   "metadata": {},
   "outputs": [
    {
     "data": {
      "text/html": [
       "<div>\n",
       "<style scoped>\n",
       "    .dataframe tbody tr th:only-of-type {\n",
       "        vertical-align: middle;\n",
       "    }\n",
       "\n",
       "    .dataframe tbody tr th {\n",
       "        vertical-align: top;\n",
       "    }\n",
       "\n",
       "    .dataframe thead th {\n",
       "        text-align: right;\n",
       "    }\n",
       "</style>\n",
       "<table border=\"1\" class=\"dataframe\">\n",
       "  <thead>\n",
       "    <tr style=\"text-align: right;\">\n",
       "      <th></th>\n",
       "      <th>time- (s)</th>\n",
       "      <th>V- peak (V)</th>\n",
       "    </tr>\n",
       "  </thead>\n",
       "  <tbody>\n",
       "    <tr>\n",
       "      <th>0</th>\n",
       "      <td>-0.5664</td>\n",
       "      <td>-7.6</td>\n",
       "    </tr>\n",
       "    <tr>\n",
       "      <th>1</th>\n",
       "      <td>-0.0656</td>\n",
       "      <td>-7.6</td>\n",
       "    </tr>\n",
       "    <tr>\n",
       "      <th>2</th>\n",
       "      <td>0.4344</td>\n",
       "      <td>-8.0</td>\n",
       "    </tr>\n",
       "  </tbody>\n",
       "</table>\n",
       "</div>"
      ],
      "text/plain": [
       "   time- (s)  V- peak (V)\n",
       "0    -0.5664         -7.6\n",
       "1    -0.0656         -7.6\n",
       "2     0.4344         -8.0"
      ]
     },
     "execution_count": 137,
     "metadata": {},
     "output_type": "execute_result"
    }
   ],
   "source": [
    "#Find negative Peaks\n",
    "\n",
    "#Adjust parameters apropriatly\n",
    "offset=3\n",
    "distance=12\n",
    "    \n",
    "#Find local maxima (positive peaks)_\n",
    "peaks, _ = find_peaks(-y, height=offset, distance=distance)\n",
    "\n",
    "#Get the x and y values of the peaks\n",
    "neg_x_time = x.iloc[peaks].values\n",
    "neg_y_peak = y.iloc[peaks].values\n",
    "\n",
    "negative_peaks = pd.DataFrame({\n",
    "        'time- (s)': neg_x_time,\n",
    "        'V- peak (V)': neg_y_peak})\n",
    "\n",
    "negative_peaks"
   ]
  },
  {
   "cell_type": "markdown",
   "id": "7226c43d-87ed-4b79-b846-6e8f45d016da",
   "metadata": {},
   "source": [
    "Now lets label the peaks in the plot:"
   ]
  },
  {
   "cell_type": "code",
   "execution_count": 142,
   "id": "5cc64e04-af91-45a5-8aab-e49f3c362077",
   "metadata": {},
   "outputs": [
    {
     "data": {
      "image/png": "[encoded data removed]",
      "text/plain": [
       "<Figure size 640x480 with 1 Axes>"
      ]
     },
     "metadata": {},
     "output_type": "display_data"
    }
   ],
   "source": [
    "df.plot(x='Time (s)', y='Voltage (V)', kind='line')\n",
    "\n",
    "plt.xlabel('Time (s)')\n",
    "plt.ylabel('Voltage (V)')\n",
    "plt.title('Voltage vs Time')\n",
    "\n",
    "for i, (peak, time_peak) in enumerate(zip(positive_peaks['V+ peak (V)'], positive_peaks['time+ (s)'])):\n",
    "    plt.text(positive_peaks['time+ (s)'][i]+0.05, \n",
    "             positive_peaks['V+ peak (V)'][i], \n",
    "             f\"{peak} V \\n {time_peak} s\", \n",
    "             ha='left', \n",
    "             va='top', \n",
    "             fontsize=10)\n",
    "    plt.scatter(positive_peaks['time+ (s)'][i],\n",
    "                 positive_peaks['V+ peak (V)'][i],\n",
    "                color='green', \n",
    "                zorder=5)\n",
    "\n",
    "for i, (peak, time_peak) in enumerate(zip(negative_peaks['V- peak (V)'], negative_peaks['time- (s)'])):\n",
    "    plt.text(negative_peaks['time- (s)'][i]+0.05, \n",
    "             negative_peaks['V- peak (V)'][i], \n",
    "             f\"{peak} V \\n {time_peak} s\", \n",
    "             ha='left', \n",
    "             va='bottom', \n",
    "             fontsize=10)\n",
    "    plt.scatter(negative_peaks['time- (s)'][i],\n",
    "                 negative_peaks['V- peak (V)'][i],\n",
    "                color='green', \n",
    "                zorder=5)\n",
    "\n",
    "plt.xlim(-1.1, 1.1)\n",
    "plt.legend().set_visible(False)\n",
    "\n",
    "plt.show()"
   ]
  },
  {
   "cell_type": "code",
   "execution_count": 141,
   "id": "136484ee-d015-40f1-a66a-dc3c1bfdb30f",
   "metadata": {},
   "outputs": [
    {
     "data": {
      "text/html": [
       "<div>\n",
       "<style scoped>\n",
       "    .dataframe tbody tr th:only-of-type {\n",
       "        vertical-align: middle;\n",
       "    }\n",
       "\n",
       "    .dataframe tbody tr th {\n",
       "        vertical-align: top;\n",
       "    }\n",
       "\n",
       "    .dataframe thead th {\n",
       "        text-align: right;\n",
       "    }\n",
       "</style>\n",
       "<table border=\"1\" class=\"dataframe\">\n",
       "  <thead>\n",
       "    <tr style=\"text-align: right;\">\n",
       "      <th></th>\n",
       "      <th>time+ (s)</th>\n",
       "      <th>V+ peak (V)</th>\n",
       "      <th>time- (s)</th>\n",
       "      <th>V- peak (V)</th>\n",
       "    </tr>\n",
       "  </thead>\n",
       "  <tbody>\n",
       "    <tr>\n",
       "      <th>0</th>\n",
       "      <td>-0.7864</td>\n",
       "      <td>24.0</td>\n",
       "      <td>-0.5664</td>\n",
       "      <td>-7.6</td>\n",
       "    </tr>\n",
       "    <tr>\n",
       "      <th>1</th>\n",
       "      <td>-0.2864</td>\n",
       "      <td>22.4</td>\n",
       "      <td>-0.0656</td>\n",
       "      <td>-7.6</td>\n",
       "    </tr>\n",
       "    <tr>\n",
       "      <th>2</th>\n",
       "      <td>0.2144</td>\n",
       "      <td>22.8</td>\n",
       "      <td>0.4344</td>\n",
       "      <td>-8.0</td>\n",
       "    </tr>\n",
       "    <tr>\n",
       "      <th>3</th>\n",
       "      <td>0.7144</td>\n",
       "      <td>24.4</td>\n",
       "      <td>NaN</td>\n",
       "      <td>NaN</td>\n",
       "    </tr>\n",
       "  </tbody>\n",
       "</table>\n",
       "</div>"
      ],
      "text/plain": [
       "   time+ (s)  V+ peak (V)  time- (s)  V- peak (V)\n",
       "0    -0.7864         24.0    -0.5664         -7.6\n",
       "1    -0.2864         22.4    -0.0656         -7.6\n",
       "2     0.2144         22.8     0.4344         -8.0\n",
       "3     0.7144         24.4        NaN          NaN"
      ]
     },
     "execution_count": 141,
     "metadata": {},
     "output_type": "execute_result"
    }
   ],
   "source": [
    "df_summary = pd.concat([positive_peaks, negative_peaks], axis=1)\n",
    "df_summary"
   ]
  },
  {
   "cell_type": "markdown",
   "id": "ff2da5ca-06d7-424e-bd1b-5092cf71258b",
   "metadata": {},
   "source": [
    "For a set of 3 positive+negative peaks, let's calculate the Vpp (peak to peak voltage).\n",
    "\n",
    "Since the following analysis must consider pair of positive and negative peaks, and the 4th set is lacking the negative peak, let's delete it."
   ]
  },
  {
   "cell_type": "code",
   "execution_count": 146,
   "id": "578306d4-0dfd-4d9e-b8cb-50a6859917d2",
   "metadata": {},
   "outputs": [
    {
     "data": {
      "text/html": [
       "<div>\n",
       "<style scoped>\n",
       "    .dataframe tbody tr th:only-of-type {\n",
       "        vertical-align: middle;\n",
       "    }\n",
       "\n",
       "    .dataframe tbody tr th {\n",
       "        vertical-align: top;\n",
       "    }\n",
       "\n",
       "    .dataframe thead th {\n",
       "        text-align: right;\n",
       "    }\n",
       "</style>\n",
       "<table border=\"1\" class=\"dataframe\">\n",
       "  <thead>\n",
       "    <tr style=\"text-align: right;\">\n",
       "      <th></th>\n",
       "      <th>time+ (s)</th>\n",
       "      <th>V+ peak (V)</th>\n",
       "      <th>time- (s)</th>\n",
       "      <th>V- peak (V)</th>\n",
       "    </tr>\n",
       "  </thead>\n",
       "  <tbody>\n",
       "    <tr>\n",
       "      <th>0</th>\n",
       "      <td>-0.7864</td>\n",
       "      <td>24.0</td>\n",
       "      <td>-0.5664</td>\n",
       "      <td>-7.6</td>\n",
       "    </tr>\n",
       "    <tr>\n",
       "      <th>1</th>\n",
       "      <td>-0.2864</td>\n",
       "      <td>22.4</td>\n",
       "      <td>-0.0656</td>\n",
       "      <td>-7.6</td>\n",
       "    </tr>\n",
       "    <tr>\n",
       "      <th>2</th>\n",
       "      <td>0.2144</td>\n",
       "      <td>22.8</td>\n",
       "      <td>0.4344</td>\n",
       "      <td>-8.0</td>\n",
       "    </tr>\n",
       "  </tbody>\n",
       "</table>\n",
       "</div>"
      ],
      "text/plain": [
       "   time+ (s)  V+ peak (V)  time- (s)  V- peak (V)\n",
       "0    -0.7864         24.0    -0.5664         -7.6\n",
       "1    -0.2864         22.4    -0.0656         -7.6\n",
       "2     0.2144         22.8     0.4344         -8.0"
      ]
     },
     "execution_count": 146,
     "metadata": {},
     "output_type": "execute_result"
    }
   ],
   "source": [
    "df_summary.drop(3, inplace=True)\n",
    "df_summary"
   ]
  },
  {
   "cell_type": "code",
   "execution_count": 163,
   "id": "2ab4fbd0-cb1b-4b05-a9a3-fb4cd9876ad4",
   "metadata": {},
   "outputs": [
    {
     "data": {
      "text/html": [
       "<div>\n",
       "<style scoped>\n",
       "    .dataframe tbody tr th:only-of-type {\n",
       "        vertical-align: middle;\n",
       "    }\n",
       "\n",
       "    .dataframe tbody tr th {\n",
       "        vertical-align: top;\n",
       "    }\n",
       "\n",
       "    .dataframe thead th {\n",
       "        text-align: right;\n",
       "    }\n",
       "</style>\n",
       "<table border=\"1\" class=\"dataframe\">\n",
       "  <thead>\n",
       "    <tr style=\"text-align: right;\">\n",
       "      <th></th>\n",
       "      <th>time+ (s)</th>\n",
       "      <th>V+ peak (V)</th>\n",
       "      <th>time- (s)</th>\n",
       "      <th>V- peak (V)</th>\n",
       "      <th>Vpp</th>\n",
       "    </tr>\n",
       "  </thead>\n",
       "  <tbody>\n",
       "    <tr>\n",
       "      <th>0</th>\n",
       "      <td>-0.7864</td>\n",
       "      <td>24.0</td>\n",
       "      <td>-0.5664</td>\n",
       "      <td>-7.6</td>\n",
       "      <td>31.6</td>\n",
       "    </tr>\n",
       "    <tr>\n",
       "      <th>1</th>\n",
       "      <td>-0.2864</td>\n",
       "      <td>22.4</td>\n",
       "      <td>-0.0656</td>\n",
       "      <td>-7.6</td>\n",
       "      <td>30.0</td>\n",
       "    </tr>\n",
       "    <tr>\n",
       "      <th>2</th>\n",
       "      <td>0.2144</td>\n",
       "      <td>22.8</td>\n",
       "      <td>0.4344</td>\n",
       "      <td>-8.0</td>\n",
       "      <td>30.8</td>\n",
       "    </tr>\n",
       "  </tbody>\n",
       "</table>\n",
       "</div>"
      ],
      "text/plain": [
       "   time+ (s)  V+ peak (V)  time- (s)  V- peak (V)   Vpp\n",
       "0    -0.7864         24.0    -0.5664         -7.6  31.6\n",
       "1    -0.2864         22.4    -0.0656         -7.6  30.0\n",
       "2     0.2144         22.8     0.4344         -8.0  30.8"
      ]
     },
     "execution_count": 163,
     "metadata": {},
     "output_type": "execute_result"
    }
   ],
   "source": [
    "#creating a new collumn for Vpp\n",
    "df_summary['Vpp']\n",
    "\n",
    "for l in range(len(df_summary)):\n",
    "    df_summary.loc[l, 'Vpp'] = abs(df_summary.loc[l, 'V+ peak (V)']) + abs(df_summary.loc[l, 'V- peak (V)'])\n",
    "\n",
    "df_summary"
   ]
  },
  {
   "cell_type": "markdown",
   "id": "b8e169f0-f3c4-43d3-9f87-055d9200ed55",
   "metadata": {},
   "source": [
    "Let's export df_summary to an excel file."
   ]
  },
  {
   "cell_type": "code",
   "execution_count": 165,
   "id": "59dfe9d8-f8ea-4bbe-b7c5-d5f57b851c15",
   "metadata": {},
   "outputs": [],
   "source": [
    "df_summary.to_csv('Peak_Analysis.csv')"
   ]
  }
 ],
 "metadata": {
  "kernelspec": {
   "display_name": "Python 3 (ipykernel)",
   "language": "python",
   "name": "python3"
  },
  "language_info": {
   "codemirror_mode": {
    "name": "ipython",
    "version": 3
   },
   "file_extension": ".py",
   "mimetype": "text/x-python",
   "name": "python",
   "nbconvert_exporter": "python",
   "pygments_lexer": "ipython3",
   "version": "3.12.4"
  }
 },
 "nbformat": 4,
 "nbformat_minor": 5
}
